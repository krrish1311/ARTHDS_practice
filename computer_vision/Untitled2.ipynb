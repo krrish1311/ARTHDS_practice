{
 "cells": [
  {
   "cell_type": "code",
   "execution_count": 1,
   "metadata": {},
   "outputs": [],
   "source": [
    "import pandas as pd"
   ]
  },
  {
   "cell_type": "code",
   "execution_count": 22,
   "metadata": {},
   "outputs": [],
   "source": [
    "import numpy as np"
   ]
  },
  {
   "cell_type": "code",
   "execution_count": 2,
   "metadata": {},
   "outputs": [],
   "source": [
    "dataset=pd.read_csv(\"colours_rgb_shades.csv\")"
   ]
  },
  {
   "cell_type": "code",
   "execution_count": 3,
   "metadata": {},
   "outputs": [
    {
     "data": {
      "text/html": [
       "<div>\n",
       "<style scoped>\n",
       "    .dataframe tbody tr th:only-of-type {\n",
       "        vertical-align: middle;\n",
       "    }\n",
       "\n",
       "    .dataframe tbody tr th {\n",
       "        vertical-align: top;\n",
       "    }\n",
       "\n",
       "    .dataframe thead th {\n",
       "        text-align: right;\n",
       "    }\n",
       "</style>\n",
       "<table border=\"1\" class=\"dataframe\">\n",
       "  <thead>\n",
       "    <tr style=\"text-align: right;\">\n",
       "      <th></th>\n",
       "      <th>Color Name</th>\n",
       "      <th>Credits</th>\n",
       "      <th>R;G;B Dec</th>\n",
       "      <th>RGB Hex</th>\n",
       "      <th>CSS Hex</th>\n",
       "      <th>BG/FG color sample</th>\n",
       "    </tr>\n",
       "  </thead>\n",
       "  <tbody>\n",
       "    <tr>\n",
       "      <th>0</th>\n",
       "      <td>Grey</td>\n",
       "      <td>N</td>\n",
       "      <td>84;84;84</td>\n",
       "      <td>545454</td>\n",
       "      <td>NaN</td>\n",
       "      <td>### SAMPLE ###</td>\n",
       "    </tr>\n",
       "    <tr>\n",
       "      <th>1</th>\n",
       "      <td>Grey, Silver</td>\n",
       "      <td>V</td>\n",
       "      <td>192;192;192</td>\n",
       "      <td>C0C0C0</td>\n",
       "      <td>NaN</td>\n",
       "      <td>### SAMPLE ###</td>\n",
       "    </tr>\n",
       "    <tr>\n",
       "      <th>2</th>\n",
       "      <td>grey</td>\n",
       "      <td>X</td>\n",
       "      <td>190;190;190</td>\n",
       "      <td>BEBEBE</td>\n",
       "      <td>NaN</td>\n",
       "      <td>### SAMPLE ###</td>\n",
       "    </tr>\n",
       "    <tr>\n",
       "      <th>3</th>\n",
       "      <td>LightGray</td>\n",
       "      <td>X</td>\n",
       "      <td>211;211;211</td>\n",
       "      <td>D3D3D3</td>\n",
       "      <td>NaN</td>\n",
       "      <td>### SAMPLE ###</td>\n",
       "    </tr>\n",
       "    <tr>\n",
       "      <th>4</th>\n",
       "      <td>LightSlateGrey</td>\n",
       "      <td>X</td>\n",
       "      <td>119;136;153</td>\n",
       "      <td>778899</td>\n",
       "      <td>789</td>\n",
       "      <td>### SAMPLE ###</td>\n",
       "    </tr>\n",
       "    <tr>\n",
       "      <th>...</th>\n",
       "      <td>...</td>\n",
       "      <td>...</td>\n",
       "      <td>...</td>\n",
       "      <td>...</td>\n",
       "      <td>...</td>\n",
       "      <td>...</td>\n",
       "    </tr>\n",
       "    <tr>\n",
       "      <th>655</th>\n",
       "      <td>gold</td>\n",
       "      <td>N</td>\n",
       "      <td>205;127;50</td>\n",
       "      <td>CD7F32</td>\n",
       "      <td>NaN</td>\n",
       "      <td>### SAMPLE ###</td>\n",
       "    </tr>\n",
       "    <tr>\n",
       "      <th>656</th>\n",
       "      <td>silver</td>\n",
       "      <td>N</td>\n",
       "      <td>230;232;250</td>\n",
       "      <td>E6E8FA</td>\n",
       "      <td>NaN</td>\n",
       "      <td>### SAMPLE ###</td>\n",
       "    </tr>\n",
       "    <tr>\n",
       "      <th>657</th>\n",
       "      <td>Silver, Grey</td>\n",
       "      <td>V</td>\n",
       "      <td>192;192;192</td>\n",
       "      <td>C0C0C0</td>\n",
       "      <td>NaN</td>\n",
       "      <td>### SAMPLE ###</td>\n",
       "    </tr>\n",
       "    <tr>\n",
       "      <th>658</th>\n",
       "      <td>Light Steel Blue</td>\n",
       "      <td>N</td>\n",
       "      <td>84;84;84</td>\n",
       "      <td>545454</td>\n",
       "      <td>NaN</td>\n",
       "      <td>### SAMPLE ###</td>\n",
       "    </tr>\n",
       "    <tr>\n",
       "      <th>659</th>\n",
       "      <td>Steel Blue</td>\n",
       "      <td>N</td>\n",
       "      <td>35;107;142</td>\n",
       "      <td>236B8E</td>\n",
       "      <td>NaN</td>\n",
       "      <td>NaN</td>\n",
       "    </tr>\n",
       "  </tbody>\n",
       "</table>\n",
       "<p>660 rows × 6 columns</p>\n",
       "</div>"
      ],
      "text/plain": [
       "           Color Name Credits    R;G;B Dec RGB Hex CSS Hex BG/FG color sample\n",
       "0                Grey       N     84;84;84  545454     NaN     ### SAMPLE ###\n",
       "1        Grey, Silver       V  192;192;192  C0C0C0     NaN     ### SAMPLE ###\n",
       "2                grey       X  190;190;190  BEBEBE     NaN     ### SAMPLE ###\n",
       "3           LightGray       X  211;211;211  D3D3D3     NaN     ### SAMPLE ###\n",
       "4      LightSlateGrey       X  119;136;153  778899     789     ### SAMPLE ###\n",
       "..                ...     ...          ...     ...     ...                ...\n",
       "655              gold       N   205;127;50  CD7F32     NaN     ### SAMPLE ###\n",
       "656            silver       N  230;232;250  E6E8FA     NaN     ### SAMPLE ###\n",
       "657      Silver, Grey       V  192;192;192  C0C0C0     NaN     ### SAMPLE ###\n",
       "658  Light Steel Blue       N     84;84;84  545454     NaN     ### SAMPLE ###\n",
       "659        Steel Blue       N   35;107;142  236B8E     NaN                NaN\n",
       "\n",
       "[660 rows x 6 columns]"
      ]
     },
     "execution_count": 3,
     "metadata": {},
     "output_type": "execute_result"
    }
   ],
   "source": [
    "dataset"
   ]
  },
  {
   "cell_type": "code",
   "execution_count": 4,
   "metadata": {},
   "outputs": [],
   "source": [
    "RGB=dataset[\"R;G;B Dec\"]"
   ]
  },
  {
   "cell_type": "code",
   "execution_count": 8,
   "metadata": {},
   "outputs": [],
   "source": [
    "v=RGB[0]"
   ]
  },
  {
   "cell_type": "code",
   "execution_count": 13,
   "metadata": {},
   "outputs": [],
   "source": [
    "v=v.replace(\";\",\" \")"
   ]
  },
  {
   "cell_type": "code",
   "execution_count": 16,
   "metadata": {},
   "outputs": [],
   "source": [
    "v=v.split()"
   ]
  },
  {
   "cell_type": "code",
   "execution_count": 17,
   "metadata": {},
   "outputs": [
    {
     "data": {
      "text/plain": [
       "['84', '84', '84']"
      ]
     },
     "execution_count": 17,
     "metadata": {},
     "output_type": "execute_result"
    }
   ],
   "source": [
    "v"
   ]
  },
  {
   "cell_type": "code",
   "execution_count": 20,
   "metadata": {},
   "outputs": [],
   "source": [
    "r=[]\n",
    "g=[]\n",
    "b=[]\n",
    "for i in RGB:\n",
    "    values=i.replace(\";\",\" \")\n",
    "    values=values.split()\n",
    "    r.append(int(values[0]))\n",
    "    g.append(int(values[1]))\n",
    "    b.append(int(values[2]))"
   ]
  },
  {
   "cell_type": "code",
   "execution_count": null,
   "metadata": {},
   "outputs": [],
   "source": [
    "r_array=np.array(r)\n",
    "r_array=r_array."
   ]
  },
  {
   "cell_type": "code",
   "execution_count": null,
   "metadata": {},
   "outputs": [],
   "source": []
  },
  {
   "cell_type": "code",
   "execution_count": null,
   "metadata": {},
   "outputs": [],
   "source": []
  },
  {
   "cell_type": "code",
   "execution_count": null,
   "metadata": {},
   "outputs": [],
   "source": []
  },
  {
   "cell_type": "code",
   "execution_count": null,
   "metadata": {},
   "outputs": [],
   "source": [
    "from keras.models import Sequential\n",
    "model  = Sequential()\n",
    "from keras.layers import Dense\n",
    "model.add(Dense(units=32 , kernel_initializer='he_normal',activation='relu'))\n",
    "model.add(Dense(units=16  , kernel_initializer = \"he_normal\"  ,activation='relu'))\n",
    "model.add(Dense(units=8 , kernel_initializer='he_normal',activation='relu'))\n",
    "model.add(Dense(units=3 , kernel_initializer='he_normal',activation='softmax'))\n",
    "from keras.optimizers import RMSprop\n",
    "\n",
    "model.compile(optimizer=RMSprop(learning_rate=0.001),loss=\"categorical_crossentropy\",metrics=[\"accuracy\"])\n",
    "model.fit(X,y_cat, epochs=50)\n"
   ]
  }
 ],
 "metadata": {
  "kernelspec": {
   "display_name": "Python 3",
   "language": "python",
   "name": "python3"
  },
  "language_info": {
   "codemirror_mode": {
    "name": "ipython",
    "version": 3
   },
   "file_extension": ".py",
   "mimetype": "text/x-python",
   "name": "python",
   "nbconvert_exporter": "python",
   "pygments_lexer": "ipython3",
   "version": "3.8.5"
  }
 },
 "nbformat": 4,
 "nbformat_minor": 4
}
