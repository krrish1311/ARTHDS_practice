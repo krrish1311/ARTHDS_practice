{
 "cells": [
  {
   "cell_type": "code",
   "execution_count": 1,
   "metadata": {},
   "outputs": [],
   "source": [
    "import pandas as pd\n",
    "import numpy as np"
   ]
  },
  {
   "cell_type": "code",
   "execution_count": 2,
   "metadata": {},
   "outputs": [],
   "source": [
    "db=pd.read_csv(\"kohli_test.csv\")"
   ]
  },
  {
   "cell_type": "code",
   "execution_count": 3,
   "metadata": {},
   "outputs": [
    {
     "data": {
      "text/html": [
       "<div>\n",
       "<style scoped>\n",
       "    .dataframe tbody tr th:only-of-type {\n",
       "        vertical-align: middle;\n",
       "    }\n",
       "\n",
       "    .dataframe tbody tr th {\n",
       "        vertical-align: top;\n",
       "    }\n",
       "\n",
       "    .dataframe thead th {\n",
       "        text-align: right;\n",
       "    }\n",
       "</style>\n",
       "<table border=\"1\" class=\"dataframe\">\n",
       "  <thead>\n",
       "    <tr style=\"text-align: right;\">\n",
       "      <th></th>\n",
       "      <th>Unnamed: 0</th>\n",
       "      <th>Player</th>\n",
       "      <th>Runs</th>\n",
       "      <th>Mins</th>\n",
       "      <th>BF</th>\n",
       "      <th>4s</th>\n",
       "      <th>6s</th>\n",
       "      <th>SR</th>\n",
       "      <th>Inns</th>\n",
       "      <th>Opposition</th>\n",
       "      <th>Ground</th>\n",
       "      <th>year</th>\n",
       "      <th>Venue</th>\n",
       "    </tr>\n",
       "  </thead>\n",
       "  <tbody>\n",
       "    <tr>\n",
       "      <th>0</th>\n",
       "      <td>1</td>\n",
       "      <td>V Kohli</td>\n",
       "      <td>254.0</td>\n",
       "      <td>0.0</td>\n",
       "      <td>336.0</td>\n",
       "      <td>33.0</td>\n",
       "      <td>2.0</td>\n",
       "      <td>75.59</td>\n",
       "      <td>1.0</td>\n",
       "      <td>South Africa</td>\n",
       "      <td>Pune</td>\n",
       "      <td>2019</td>\n",
       "      <td>home</td>\n",
       "    </tr>\n",
       "    <tr>\n",
       "      <th>1</th>\n",
       "      <td>2</td>\n",
       "      <td>V Kohli</td>\n",
       "      <td>243.0</td>\n",
       "      <td>447.0</td>\n",
       "      <td>287.0</td>\n",
       "      <td>25.0</td>\n",
       "      <td>0.0</td>\n",
       "      <td>84.66</td>\n",
       "      <td>1.0</td>\n",
       "      <td>Sri Lanka</td>\n",
       "      <td>Delhi</td>\n",
       "      <td>2017</td>\n",
       "      <td>home</td>\n",
       "    </tr>\n",
       "    <tr>\n",
       "      <th>2</th>\n",
       "      <td>4</td>\n",
       "      <td>V Kohli</td>\n",
       "      <td>235.0</td>\n",
       "      <td>515.0</td>\n",
       "      <td>340.0</td>\n",
       "      <td>25.0</td>\n",
       "      <td>1.0</td>\n",
       "      <td>69.11</td>\n",
       "      <td>2.0</td>\n",
       "      <td>England</td>\n",
       "      <td>Mumbai</td>\n",
       "      <td>2016</td>\n",
       "      <td>home</td>\n",
       "    </tr>\n",
       "    <tr>\n",
       "      <th>3</th>\n",
       "      <td>7</td>\n",
       "      <td>V Kohli</td>\n",
       "      <td>213.0</td>\n",
       "      <td>386.0</td>\n",
       "      <td>267.0</td>\n",
       "      <td>17.0</td>\n",
       "      <td>2.0</td>\n",
       "      <td>79.77</td>\n",
       "      <td>2.0</td>\n",
       "      <td>Sri Lanka</td>\n",
       "      <td>Nagpur</td>\n",
       "      <td>2017</td>\n",
       "      <td>home</td>\n",
       "    </tr>\n",
       "    <tr>\n",
       "      <th>4</th>\n",
       "      <td>9</td>\n",
       "      <td>V Kohli</td>\n",
       "      <td>211.0</td>\n",
       "      <td>536.0</td>\n",
       "      <td>366.0</td>\n",
       "      <td>20.0</td>\n",
       "      <td>0.0</td>\n",
       "      <td>57.65</td>\n",
       "      <td>1.0</td>\n",
       "      <td>New Zealand</td>\n",
       "      <td>Indore</td>\n",
       "      <td>2016</td>\n",
       "      <td>home</td>\n",
       "    </tr>\n",
       "    <tr>\n",
       "      <th>...</th>\n",
       "      <td>...</td>\n",
       "      <td>...</td>\n",
       "      <td>...</td>\n",
       "      <td>...</td>\n",
       "      <td>...</td>\n",
       "      <td>...</td>\n",
       "      <td>...</td>\n",
       "      <td>...</td>\n",
       "      <td>...</td>\n",
       "      <td>...</td>\n",
       "      <td>...</td>\n",
       "      <td>...</td>\n",
       "      <td>...</td>\n",
       "    </tr>\n",
       "    <tr>\n",
       "      <th>148</th>\n",
       "      <td>170</td>\n",
       "      <td>V Kohli</td>\n",
       "      <td>0.0</td>\n",
       "      <td>1.0</td>\n",
       "      <td>1.0</td>\n",
       "      <td>0.0</td>\n",
       "      <td>0.0</td>\n",
       "      <td>0.00</td>\n",
       "      <td>3.0</td>\n",
       "      <td>England</td>\n",
       "      <td>Lord's</td>\n",
       "      <td>2014</td>\n",
       "      <td>away</td>\n",
       "    </tr>\n",
       "    <tr>\n",
       "      <th>149</th>\n",
       "      <td>177</td>\n",
       "      <td>V Kohli</td>\n",
       "      <td>0.0</td>\n",
       "      <td>3.0</td>\n",
       "      <td>2.0</td>\n",
       "      <td>0.0</td>\n",
       "      <td>0.0</td>\n",
       "      <td>0.00</td>\n",
       "      <td>1.0</td>\n",
       "      <td>England</td>\n",
       "      <td>Manchester</td>\n",
       "      <td>2014</td>\n",
       "      <td>away</td>\n",
       "    </tr>\n",
       "    <tr>\n",
       "      <th>150</th>\n",
       "      <td>29</td>\n",
       "      <td>V Kohli</td>\n",
       "      <td>0.0</td>\n",
       "      <td>3.0</td>\n",
       "      <td>1.0</td>\n",
       "      <td>0.0</td>\n",
       "      <td>0.0</td>\n",
       "      <td>0.00</td>\n",
       "      <td>4.0</td>\n",
       "      <td>England</td>\n",
       "      <td>The Oval</td>\n",
       "      <td>2018</td>\n",
       "      <td>away</td>\n",
       "    </tr>\n",
       "    <tr>\n",
       "      <th>151</th>\n",
       "      <td>40</td>\n",
       "      <td>V Kohli</td>\n",
       "      <td>0.0</td>\n",
       "      <td>6.0</td>\n",
       "      <td>4.0</td>\n",
       "      <td>0.0</td>\n",
       "      <td>0.0</td>\n",
       "      <td>0.00</td>\n",
       "      <td>3.0</td>\n",
       "      <td>Australia</td>\n",
       "      <td>Melbourne</td>\n",
       "      <td>2018</td>\n",
       "      <td>away</td>\n",
       "    </tr>\n",
       "    <tr>\n",
       "      <th>152</th>\n",
       "      <td>43</td>\n",
       "      <td>V Kohli</td>\n",
       "      <td>0.0</td>\n",
       "      <td>3.0</td>\n",
       "      <td>1.0</td>\n",
       "      <td>0.0</td>\n",
       "      <td>0.0</td>\n",
       "      <td>0.00</td>\n",
       "      <td>3.0</td>\n",
       "      <td>West Indies</td>\n",
       "      <td>Kingston</td>\n",
       "      <td>2019</td>\n",
       "      <td>away</td>\n",
       "    </tr>\n",
       "  </tbody>\n",
       "</table>\n",
       "<p>153 rows × 13 columns</p>\n",
       "</div>"
      ],
      "text/plain": [
       "     Unnamed: 0   Player   Runs   Mins     BF    4s   6s     SR  Inns  \\\n",
       "0             1  V Kohli  254.0    0.0  336.0  33.0  2.0  75.59   1.0   \n",
       "1             2  V Kohli  243.0  447.0  287.0  25.0  0.0  84.66   1.0   \n",
       "2             4  V Kohli  235.0  515.0  340.0  25.0  1.0  69.11   2.0   \n",
       "3             7  V Kohli  213.0  386.0  267.0  17.0  2.0  79.77   2.0   \n",
       "4             9  V Kohli  211.0  536.0  366.0  20.0  0.0  57.65   1.0   \n",
       "..          ...      ...    ...    ...    ...   ...  ...    ...   ...   \n",
       "148         170  V Kohli    0.0    1.0    1.0   0.0  0.0   0.00   3.0   \n",
       "149         177  V Kohli    0.0    3.0    2.0   0.0  0.0   0.00   1.0   \n",
       "150          29  V Kohli    0.0    3.0    1.0   0.0  0.0   0.00   4.0   \n",
       "151          40  V Kohli    0.0    6.0    4.0   0.0  0.0   0.00   3.0   \n",
       "152          43  V Kohli    0.0    3.0    1.0   0.0  0.0   0.00   3.0   \n",
       "\n",
       "       Opposition      Ground  year Venue  \n",
       "0    South Africa        Pune  2019  home  \n",
       "1       Sri Lanka       Delhi  2017  home  \n",
       "2         England      Mumbai  2016  home  \n",
       "3       Sri Lanka      Nagpur  2017  home  \n",
       "4     New Zealand      Indore  2016  home  \n",
       "..            ...         ...   ...   ...  \n",
       "148       England      Lord's  2014  away  \n",
       "149       England  Manchester  2014  away  \n",
       "150       England    The Oval  2018  away  \n",
       "151     Australia   Melbourne  2018  away  \n",
       "152   West Indies    Kingston  2019  away  \n",
       "\n",
       "[153 rows x 13 columns]"
      ]
     },
     "execution_count": 3,
     "metadata": {},
     "output_type": "execute_result"
    }
   ],
   "source": [
    "db"
   ]
  },
  {
   "cell_type": "code",
   "execution_count": 55,
   "metadata": {},
   "outputs": [],
   "source": [
    "Opposition=db['Opposition']"
   ]
  },
  {
   "cell_type": "code",
   "execution_count": 56,
   "metadata": {},
   "outputs": [],
   "source": [
    "from sklearn.preprocessing  import LabelEncoder , OneHotEncoder"
   ]
  },
  {
   "cell_type": "code",
   "execution_count": 57,
   "metadata": {},
   "outputs": [],
   "source": [
    "label=LabelEncoder()"
   ]
  },
  {
   "cell_type": "code",
   "execution_count": 58,
   "metadata": {},
   "outputs": [],
   "source": [
    "opposition_le=label.fit_transform(Opposition)"
   ]
  },
  {
   "cell_type": "code",
   "execution_count": 59,
   "metadata": {},
   "outputs": [],
   "source": [
    "ohe=OneHotEncoder()"
   ]
  },
  {
   "cell_type": "code",
   "execution_count": null,
   "metadata": {},
   "outputs": [],
   "source": []
  },
  {
   "cell_type": "code",
   "execution_count": 60,
   "metadata": {},
   "outputs": [
    {
     "data": {
      "text/plain": [
       "<153x7 sparse matrix of type '<class 'numpy.float64'>'\n",
       "\twith 153 stored elements in Compressed Sparse Row format>"
      ]
     },
     "execution_count": 60,
     "metadata": {},
     "output_type": "execute_result"
    }
   ],
   "source": [
    "opposition_ohe"
   ]
  },
  {
   "cell_type": "code",
   "execution_count": 61,
   "metadata": {},
   "outputs": [],
   "source": [
    "opposition_le=opposition_le.reshape(-1,1)"
   ]
  },
  {
   "cell_type": "code",
   "execution_count": 62,
   "metadata": {},
   "outputs": [],
   "source": [
    "opposition_ohe=ohe.fit_transform(opposition_le)"
   ]
  },
  {
   "cell_type": "code",
   "execution_count": 63,
   "metadata": {},
   "outputs": [],
   "source": [
    "opposition_ohe.toarrayarra()"
   ]
  },
  {
   "cell_type": "code",
   "execution_count": 64,
   "metadata": {},
   "outputs": [
    {
     "data": {
      "text/plain": [
       "(153, 7)"
      ]
     },
     "execution_count": 64,
     "metadata": {},
     "output_type": "execute_result"
    }
   ],
   "source": [
    "opposition_ohe_arr.shape"
   ]
  },
  {
   "cell_type": "code",
   "execution_count": 79,
   "metadata": {},
   "outputs": [],
   "source": [
    "ground=db[\"Ground\"]"
   ]
  },
  {
   "cell_type": "code",
   "execution_count": 80,
   "metadata": {},
   "outputs": [],
   "source": [
    "ground_le=label.fit_transform(ground)"
   ]
  },
  {
   "cell_type": "code",
   "execution_count": 89,
   "metadata": {},
   "outputs": [],
   "source": [
    "ground_le=ground_le.reshape(-1,1)"
   ]
  },
  {
   "cell_type": "code",
   "execution_count": 90,
   "metadata": {},
   "outputs": [],
   "source": [
    "ground_ohe=ohe.fit_transform(ground_le)"
   ]
  },
  {
   "cell_type": "code",
   "execution_count": 92,
   "metadata": {},
   "outputs": [
    {
     "data": {
      "text/plain": [
       "<153x43 sparse matrix of type '<class 'numpy.float64'>'\n",
       "\twith 153 stored elements in Compressed Sparse Row format>"
      ]
     },
     "execution_count": 92,
     "metadata": {},
     "output_type": "execute_result"
    }
   ],
   "source": [
    "ground_ohe"
   ]
  },
  {
   "cell_type": "code",
   "execution_count": 93,
   "metadata": {},
   "outputs": [],
   "source": [
    "ground_ohe_arr=ground_ohe.toarray()"
   ]
  },
  {
   "cell_type": "code",
   "execution_count": 95,
   "metadata": {},
   "outputs": [
    {
     "data": {
      "text/plain": [
       "(153, 43)"
      ]
     },
     "execution_count": 95,
     "metadata": {},
     "output_type": "execute_result"
    }
   ],
   "source": [
    "ground_ohe_arr.shape"
   ]
  },
  {
   "cell_type": "code",
   "execution_count": 96,
   "metadata": {},
   "outputs": [],
   "source": [
    "k=[12,45,15,95,48,75,]\n",
    "l=[11,12,45,15,95,48,75,]\n",
    "m=[12,45,15,18,95,48,75,]\n",
    "j=(k,l,m)\n",
    "i,p,q=j"
   ]
  },
  {
   "cell_type": "code",
   "execution_count": 129,
   "metadata": {},
   "outputs": [],
   "source": [
    "class dummydata :\n",
    "    \n",
    "    \n",
    "    def __init__(self,*features):\n",
    "        self.features=features\n",
    "        \n",
    "        \n",
    "    def label_encoder(self):\n",
    "        le=LabelEncoder()\n",
    "        self.feature_le=[]\n",
    "        for i in self.features :\n",
    "            lists=le.fit_transform(i)\n",
    "            self.feature_le.append(lists)\n",
    "        return self.feature_le    \n",
    "            \n",
    "    def one_hot_encoder(self):\n",
    "        ohe=OneHotEncoder()\n",
    "        self.feature_ohe=[]\n",
    "        self.variables=self.label_encoder()\n",
    "        for i in self.variables:\n",
    "            i=i.reshape(-1,1)\n",
    "            variable_ohe=ohe.fit_transform(i)\n",
    "            variable_ohe=variable_ohe.toarray()\n",
    "            #variable_ohe=variable_ohe[:,len(variable_ohe)-1]\n",
    "            self.feature_ohe.append(variable_ohe)\n",
    "            \n",
    "        return self.feature_ohe    \n",
    "            "
   ]
  },
  {
   "cell_type": "code",
   "execution_count": 130,
   "metadata": {},
   "outputs": [],
   "source": [
    "variables=dummydata(Opposition,ground,db['Inns'],db['year'],db['Venue'])"
   ]
  },
  {
   "cell_type": "code",
   "execution_count": 132,
   "metadata": {},
   "outputs": [],
   "source": [
    "onehotencoding=variables.one_hot_encoder()"
   ]
  },
  {
   "cell_type": "code",
   "execution_count": 135,
   "metadata": {},
   "outputs": [],
   "source": [
    "opposition=onehotencoding[0][:]"
   ]
  },
  {
   "cell_type": "code",
   "execution_count": 136,
   "metadata": {},
   "outputs": [],
   "source": [
    "ground=onehotencoding[1][:]\n",
    "inns=onehotencoding[2][:]\n",
    "year=onehotencoding[3][:]\n",
    "venue=onehotencoding[4][:]"
   ]
  },
  {
   "cell_type": "code",
   "execution_count": 102,
   "metadata": {},
   "outputs": [
    {
     "data": {
      "text/plain": [
       "[12, 45, 15, 95, 48, 75]"
      ]
     },
     "execution_count": 102,
     "metadata": {},
     "output_type": "execute_result"
    }
   ],
   "source": []
  },
  {
   "cell_type": "code",
   "execution_count": null,
   "metadata": {},
   "outputs": [],
   "source": []
  }
 ],
 "metadata": {
  "kernelspec": {
   "display_name": "Python 3",
   "language": "python",
   "name": "python3"
  },
  "language_info": {
   "codemirror_mode": {
    "name": "ipython",
    "version": 3
   },
   "file_extension": ".py",
   "mimetype": "text/x-python",
   "name": "python",
   "nbconvert_exporter": "python",
   "pygments_lexer": "ipython3",
   "version": "3.8.5"
  }
 },
 "nbformat": 4,
 "nbformat_minor": 4
}
