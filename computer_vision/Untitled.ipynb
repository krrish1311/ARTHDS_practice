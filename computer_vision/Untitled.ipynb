{
 "cells": [
  {
   "cell_type": "code",
   "execution_count": 46,
   "metadata": {},
   "outputs": [],
   "source": [
    "import cv2"
   ]
  },
  {
   "cell_type": "code",
   "execution_count": 131,
   "metadata": {},
   "outputs": [],
   "source": [
    "cap=cv2.VideoCapture(0)"
   ]
  },
  {
   "cell_type": "code",
   "execution_count": 135,
   "metadata": {},
   "outputs": [],
   "source": [
    "ret,photo=cap.read()"
   ]
  },
  {
   "cell_type": "code",
   "execution_count": 59,
   "metadata": {},
   "outputs": [],
   "source": [
    "import math"
   ]
  },
  {
   "cell_type": "code",
   "execution_count": 60,
   "metadata": {},
   "outputs": [],
   "source": [
    "#here we are using the global varables because for every event the function runs and \n",
    "#for next event previous function data (variables) get removed so we need to create \n",
    "#global variable which can store data permanent\n",
    "\n",
    "\n",
    "def action(event,x,y,l,m):\n",
    "    if event==cv2.EVENT_LBUTTONDOWN:\n",
    "        #print(x,y)\n",
    "        global x1,y1\n",
    "        x1,y1=x,y\n",
    "        #print(x1,y1)\n",
    "    if event==cv2.EVENT_LBUTTONUP:\n",
    "        #print(x,y)\n",
    "        global x2,y2\n",
    "        x2,y2=x,y\n",
    "        #print(x2,y2)\n",
    "        cv2.rectangle(photo,(x1,y1),(x2,y2),[0,255,0],3)\n",
    "    if event==cv2.EVENT_RBUTTONDOWN:\n",
    "        global x3,y3\n",
    "        x3,y3=x,y\n",
    "    elif event==cv2.EVENT_RBUTTONUP:\n",
    "        global x4,y4\n",
    "        x4,y4=x,y\n",
    "        radius=math.sqrt(((x4-x3)*(x4-x3) + (y4-y3)*(y4-y3)))\n",
    "        radius=math.floor(radius)\n",
    "        cv2.circle(photo,(x4,y4),radius,[0,255,0],3)\n",
    "           "
   ]
  },
  {
   "cell_type": "code",
   "execution_count": 61,
   "metadata": {},
   "outputs": [],
   "source": [
    "def drawcircle(event,x,y,l,m):\n",
    "    if event==cv2.EVENT_RBUTTONDOWN:\n",
    "        global x1,y1\n",
    "        x1,y1=x,y\n",
    "    elif event==cv2.EVENT_RBUTTONUP:\n",
    "        global x2,y2\n",
    "        x2,y2=x,y\n",
    "        radius=math.sqrt(((x2-x1)*(x2-x1) + (y2-y1)*(y2-y1)))\n",
    "        radius=math.floor(radius)\n",
    "        cv2.circle(photo,(x1,y1),radius,[0,255,0],3)\n",
    "        "
   ]
  },
  {
   "cell_type": "code",
   "execution_count": 112,
   "metadata": {},
   "outputs": [],
   "source": [
    "def green_blue(event,x,y,l,m):\n",
    "    if event==cv2.EVENT_LBUTTONDOWN:\n",
    "        #print(x,y)\n",
    "        global x1,y1\n",
    "        x1,y1=x,y\n",
    "        #print(x1,y1)\n",
    "    if event==cv2.EVENT_LBUTTONUP:\n",
    "        #print(x,y)\n",
    "        global x2,y2\n",
    "        x2,y2=x,y\n",
    "        cphoto=photo[y1:y2,x1:x2]\n",
    "        cphoto[:,:,(0,1)]=0\n",
    "        photo[y1:y2,x1:x2]=cphoto\n",
    "    if event==cv2.EVENT_RBUTTONDOWN:\n",
    "        global x3,y3\n",
    "        x3,y3=x,y\n",
    "    elif event==cv2.EVENT_RBUTTONUP:\n",
    "        global x4,y4\n",
    "        x4,y4=x,y\n",
    "        gphoto=photo[y3:y4,x3:x4]\n",
    "        gphoto[:,:,(0,2)]=0\n",
    "        photo[y3:y4,x3:x4]=gphoto"
   ]
  },
  {
   "cell_type": "code",
   "execution_count": 136,
   "metadata": {},
   "outputs": [],
   "source": [
    "cv2.namedWindow(winname=\"mywin1\")\n",
    "cv2.setMouseCallback(\"mywin1\",green_blue)\n",
    "while True:\n",
    "    #ret,photo=cap.read()\n",
    "    cv2.imshow(\"mywin1\",photo)\n",
    "    if cv2.waitKey(1)==13:\n",
    "        break\n",
    "cv2.destroyAllWindows()"
   ]
  },
  {
   "cell_type": "code",
   "execution_count": 117,
   "metadata": {},
   "outputs": [
    {
     "data": {
      "text/plain": [
       "8"
      ]
     },
     "execution_count": 117,
     "metadata": {},
     "output_type": "execute_result"
    }
   ],
   "source": [
    "cv2.EVENT_FLAG_"
   ]
  },
  {
   "cell_type": "code",
   "execution_count": 128,
   "metadata": {},
   "outputs": [],
   "source": [
    "def flags(event,x,y,i,j):\n",
    "     print(flags,events)\n",
    "     if event==cv2.EVENT_FLAG_ALTKEY:\n",
    "            print(\"event\",event)\n",
    "            print(\"x\",x,\"y\",y)\n",
    "            print(i,j)\n",
    "            "
   ]
  },
  {
   "cell_type": "code",
   "execution_count": 129,
   "metadata": {},
   "outputs": [],
   "source": [
    "cv2.namedWindow(winname=\"mywin2\")\n",
    "cv2.setMouseCallback(\"mywin1\",flags)\n",
    "while True:\n",
    "    #ret,photo=cap.read()\n",
    "    cv2.imshow(\"mywin2\",photo)\n",
    "    if cv2.waitKey(1)==13:\n",
    "        break\n",
    "cv2.destroyAllWindows()"
   ]
  },
  {
   "cell_type": "code",
   "execution_count": 137,
   "metadata": {},
   "outputs": [],
   "source": [
    "cap.release() "
   ]
  },
  {
   "cell_type": "code",
   "execution_count": null,
   "metadata": {},
   "outputs": [],
   "source": []
  },
  {
   "cell_type": "code",
   "execution_count": null,
   "metadata": {},
   "outputs": [],
   "source": []
  },
  {
   "cell_type": "code",
   "execution_count": null,
   "metadata": {},
   "outputs": [],
   "source": []
  },
  {
   "cell_type": "code",
   "execution_count": null,
   "metadata": {},
   "outputs": [],
   "source": []
  },
  {
   "cell_type": "code",
   "execution_count": null,
   "metadata": {},
   "outputs": [],
   "source": []
  },
  {
   "cell_type": "code",
   "execution_count": null,
   "metadata": {},
   "outputs": [],
   "source": []
  },
  {
   "cell_type": "code",
   "execution_count": null,
   "metadata": {
    "scrolled": true
   },
   "outputs": [],
   "source": [
    "cv2.EVENT_RBUTTONDBLCLK"
   ]
  },
  {
   "cell_type": "code",
   "execution_count": null,
   "metadata": {},
   "outputs": [],
   "source": [
    "x=10"
   ]
  },
  {
   "cell_type": "code",
   "execution_count": null,
   "metadata": {},
   "outputs": [],
   "source": [
    "y=x"
   ]
  },
  {
   "cell_type": "code",
   "execution_count": null,
   "metadata": {},
   "outputs": [],
   "source": [
    "id(x)"
   ]
  },
  {
   "cell_type": "code",
   "execution_count": null,
   "metadata": {},
   "outputs": [],
   "source": [
    "id(y)"
   ]
  },
  {
   "cell_type": "code",
   "execution_count": null,
   "metadata": {},
   "outputs": [],
   "source": [
    "y=20"
   ]
  },
  {
   "cell_type": "code",
   "execution_count": 118,
   "metadata": {},
   "outputs": [],
   "source": [
    "cap.release() "
   ]
  },
  {
   "cell_type": "code",
   "execution_count": null,
   "metadata": {},
   "outputs": [],
   "source": [
    "x=y"
   ]
  },
  {
   "cell_type": "code",
   "execution_count": null,
   "metadata": {},
   "outputs": [],
   "source": [
    "y=y+1"
   ]
  },
  {
   "cell_type": "code",
   "execution_count": null,
   "metadata": {},
   "outputs": [],
   "source": [
    "x"
   ]
  },
  {
   "cell_type": "code",
   "execution_count": null,
   "metadata": {},
   "outputs": [],
   "source": [
    "x"
   ]
  },
  {
   "cell_type": "code",
   "execution_count": null,
   "metadata": {},
   "outputs": [],
   "source": [
    "y"
   ]
  },
  {
   "cell_type": "code",
   "execution_count": 26,
   "metadata": {},
   "outputs": [],
   "source": [
    "def show(img):\n",
    "    cv2.imshow(\"hii\",img)\n",
    "    cv2.waitKey()\n",
    "    cv2.destroyAllWindows()"
   ]
  },
  {
   "cell_type": "code",
   "execution_count": 27,
   "metadata": {},
   "outputs": [],
   "source": [
    "photo=cv2.imread(\"Andhadhun.jpeg\")"
   ]
  },
  {
   "cell_type": "code",
   "execution_count": 28,
   "metadata": {},
   "outputs": [],
   "source": [
    "show(photo)"
   ]
  },
  {
   "cell_type": "code",
   "execution_count": 29,
   "metadata": {},
   "outputs": [],
   "source": [
    "b,g,r=cv2.split(photo)"
   ]
  },
  {
   "cell_type": "code",
   "execution_count": 30,
   "metadata": {},
   "outputs": [
    {
     "data": {
      "text/plain": [
       "array([[ 8,  8,  8, ...,  6,  6,  6],\n",
       "       [ 8,  8,  8, ...,  6,  6,  6],\n",
       "       [ 8,  8,  8, ...,  6,  6,  6],\n",
       "       ...,\n",
       "       [51, 35, 24, ...,  9,  9,  9],\n",
       "       [49, 47, 26, ...,  9,  9,  9],\n",
       "       [40, 26,  6, ...,  9,  9,  9]], dtype=uint8)"
      ]
     },
     "execution_count": 30,
     "metadata": {},
     "output_type": "execute_result"
    }
   ],
   "source": [
    "b"
   ]
  },
  {
   "cell_type": "code",
   "execution_count": 31,
   "metadata": {},
   "outputs": [
    {
     "data": {
      "text/plain": [
       "array([[180, 180, 180, ..., 177, 177, 177],\n",
       "       [180, 180, 180, ..., 177, 177, 177],\n",
       "       [180, 180, 180, ..., 177, 177, 177],\n",
       "       ...,\n",
       "       [163, 149, 140, ..., 176, 176, 176],\n",
       "       [152, 153, 136, ..., 176, 176, 176],\n",
       "       [137, 125, 109, ..., 176, 176, 176]], dtype=uint8)"
      ]
     },
     "execution_count": 31,
     "metadata": {},
     "output_type": "execute_result"
    }
   ],
   "source": [
    "g"
   ]
  },
  {
   "cell_type": "code",
   "execution_count": 32,
   "metadata": {},
   "outputs": [
    {
     "data": {
      "text/plain": [
       "array([[228, 228, 228, ..., 228, 228, 228],\n",
       "       [228, 228, 228, ..., 228, 228, 228],\n",
       "       [228, 228, 228, ..., 228, 228, 228],\n",
       "       ...,\n",
       "       [223, 209, 199, ..., 227, 227, 227],\n",
       "       [214, 214, 196, ..., 227, 227, 227],\n",
       "       [200, 187, 171, ..., 227, 227, 227]], dtype=uint8)"
      ]
     },
     "execution_count": 32,
     "metadata": {},
     "output_type": "execute_result"
    }
   ],
   "source": [
    "r"
   ]
  },
  {
   "cell_type": "code",
   "execution_count": 36,
   "metadata": {},
   "outputs": [],
   "source": [
    "gre=photo[:,:,(1,2)]"
   ]
  },
  {
   "cell_type": "code",
   "execution_count": 37,
   "metadata": {},
   "outputs": [
    {
     "data": {
      "text/plain": [
       "array([[[180, 228],\n",
       "        [180, 228],\n",
       "        [180, 228],\n",
       "        ...,\n",
       "        [177, 228],\n",
       "        [177, 228],\n",
       "        [177, 228]],\n",
       "\n",
       "       [[180, 228],\n",
       "        [180, 228],\n",
       "        [180, 228],\n",
       "        ...,\n",
       "        [177, 228],\n",
       "        [177, 228],\n",
       "        [177, 228]],\n",
       "\n",
       "       [[180, 228],\n",
       "        [180, 228],\n",
       "        [180, 228],\n",
       "        ...,\n",
       "        [177, 228],\n",
       "        [177, 228],\n",
       "        [177, 228]],\n",
       "\n",
       "       ...,\n",
       "\n",
       "       [[163, 223],\n",
       "        [149, 209],\n",
       "        [140, 199],\n",
       "        ...,\n",
       "        [176, 227],\n",
       "        [176, 227],\n",
       "        [176, 227]],\n",
       "\n",
       "       [[152, 214],\n",
       "        [153, 214],\n",
       "        [136, 196],\n",
       "        ...,\n",
       "        [176, 227],\n",
       "        [176, 227],\n",
       "        [176, 227]],\n",
       "\n",
       "       [[137, 200],\n",
       "        [125, 187],\n",
       "        [109, 171],\n",
       "        ...,\n",
       "        [176, 227],\n",
       "        [176, 227],\n",
       "        [176, 227]]], dtype=uint8)"
      ]
     },
     "execution_count": 37,
     "metadata": {},
     "output_type": "execute_result"
    }
   ],
   "source": [
    "gre"
   ]
  },
  {
   "cell_type": "code",
   "execution_count": 43,
   "metadata": {},
   "outputs": [],
   "source": [
    "r=r*0"
   ]
  },
  {
   "cell_type": "code",
   "execution_count": 44,
   "metadata": {},
   "outputs": [],
   "source": [
    "b=b*0"
   ]
  },
  {
   "cell_type": "code",
   "execution_count": 45,
   "metadata": {},
   "outputs": [
    {
     "ename": "error",
     "evalue": "OpenCV(4.5.2) :-1: error: (-5:Bad argument) in function 'merge'\n> Overload resolution failed:\n>  - merge() takes at most 2 arguments (3 given)\n>  - merge() takes at most 2 arguments (3 given)\n",
     "output_type": "error",
     "traceback": [
      "\u001b[1;31m---------------------------------------------------------------------------\u001b[0m",
      "\u001b[1;31merror\u001b[0m                                     Traceback (most recent call last)",
      "\u001b[1;32m<ipython-input-45-0c239fa50522>\u001b[0m in \u001b[0;36m<module>\u001b[1;34m\u001b[0m\n\u001b[1;32m----> 1\u001b[1;33m \u001b[0mcv2\u001b[0m\u001b[1;33m.\u001b[0m\u001b[0mmerge\u001b[0m\u001b[1;33m(\u001b[0m\u001b[0mb\u001b[0m\u001b[1;33m,\u001b[0m\u001b[0mg\u001b[0m\u001b[1;33m,\u001b[0m\u001b[0mr\u001b[0m\u001b[1;33m)\u001b[0m\u001b[1;33m\u001b[0m\u001b[1;33m\u001b[0m\u001b[0m\n\u001b[0m",
      "\u001b[1;31merror\u001b[0m: OpenCV(4.5.2) :-1: error: (-5:Bad argument) in function 'merge'\n> Overload resolution failed:\n>  - merge() takes at most 2 arguments (3 given)\n>  - merge() takes at most 2 arguments (3 given)\n"
     ]
    }
   ],
   "source": [
    "cv2.merge(b,g,r)"
   ]
  },
  {
   "cell_type": "code",
   "execution_count": 78,
   "metadata": {},
   "outputs": [],
   "source": [
    "ret,photo=cap.read()"
   ]
  },
  {
   "cell_type": "code",
   "execution_count": 79,
   "metadata": {},
   "outputs": [],
   "source": [
    "photo[:,:,(1,2)]=0"
   ]
  },
  {
   "cell_type": "code",
   "execution_count": 80,
   "metadata": {},
   "outputs": [],
   "source": [
    "show(photo)"
   ]
  },
  {
   "cell_type": "code",
   "execution_count": null,
   "metadata": {},
   "outputs": [],
   "source": []
  }
 ],
 "metadata": {
  "kernelspec": {
   "display_name": "Python 3",
   "language": "python",
   "name": "python3"
  },
  "language_info": {
   "codemirror_mode": {
    "name": "ipython",
    "version": 3
   },
   "file_extension": ".py",
   "mimetype": "text/x-python",
   "name": "python",
   "nbconvert_exporter": "python",
   "pygments_lexer": "ipython3",
   "version": "3.8.5"
  }
 },
 "nbformat": 4,
 "nbformat_minor": 4
}
