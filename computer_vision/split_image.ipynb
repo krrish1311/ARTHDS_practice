{
 "cells": [
  {
   "cell_type": "code",
   "execution_count": 57,
   "metadata": {},
   "outputs": [],
   "source": [
    "import cv2"
   ]
  },
  {
   "cell_type": "code",
   "execution_count": 58,
   "metadata": {},
   "outputs": [],
   "source": [
    "import numpy"
   ]
  },
  {
   "cell_type": "code",
   "execution_count": 72,
   "metadata": {},
   "outputs": [],
   "source": [
    "def imshow(img):\n",
    "    cv2.imshow('my',img)\n",
    "    cv2.waitKey()\n",
    "    cv2.destroyAllWindows()"
   ]
  },
  {
   "cell_type": "code",
   "execution_count": 142,
   "metadata": {},
   "outputs": [],
   "source": [
    "cap=cv2.VideoCapture(0)"
   ]
  },
  {
   "cell_type": "code",
   "execution_count": 99,
   "metadata": {},
   "outputs": [],
   "source": [
    "ret,photo=cap.read()"
   ]
  },
  {
   "cell_type": "code",
   "execution_count": 100,
   "metadata": {},
   "outputs": [
    {
     "data": {
      "text/plain": [
       "(480, 640, 3)"
      ]
     },
     "execution_count": 100,
     "metadata": {},
     "output_type": "execute_result"
    }
   ],
   "source": [
    "photo.shape"
   ]
  },
  {
   "cell_type": "code",
   "execution_count": 101,
   "metadata": {},
   "outputs": [],
   "source": [
    "#when we use slicing operator for retrieving one color then it will pick the array in 3d dimensions (360,480,1)  \n",
    "r3d=photo[:,:,2:3]+50"
   ]
  },
  {
   "cell_type": "code",
   "execution_count": 102,
   "metadata": {},
   "outputs": [],
   "source": [
    "#here the r2d stores the value in 2d format (360,480)\n",
    "r2d=photo[:,:,2]+50"
   ]
  },
  {
   "cell_type": "code",
   "execution_count": 96,
   "metadata": {},
   "outputs": [],
   "source": [
    "#here we overriding the 2d array\n",
    "photo[:,:,2]=r2d"
   ]
  },
  {
   "cell_type": "code",
   "execution_count": 103,
   "metadata": {},
   "outputs": [],
   "source": [
    "#here we again overiding the values with r3d values \n",
    "photo[:,:,2:3]=r3d"
   ]
  },
  {
   "cell_type": "code",
   "execution_count": 104,
   "metadata": {},
   "outputs": [],
   "source": [
    "imshow(r2d)"
   ]
  },
  {
   "cell_type": "code",
   "execution_count": 149,
   "metadata": {},
   "outputs": [],
   "source": [
    "cap.release()"
   ]
  },
  {
   "cell_type": "code",
   "execution_count": 14,
   "metadata": {},
   "outputs": [],
   "source": [
    "b,g,r=cv2.split(photo)"
   ]
  },
  {
   "cell_type": "code",
   "execution_count": 106,
   "metadata": {},
   "outputs": [],
   "source": [
    "b_dum=b.copy()"
   ]
  },
  {
   "cell_type": "code",
   "execution_count": null,
   "metadata": {},
   "outputs": [],
   "source": [
    "for i in enumerate(b_dum):\n",
    "    print(i)\n",
    "    d=i[1]\n",
    "    for j in enumerate(i[1]):\n",
    "        print(j)\n",
    "    \n",
    "\n",
    "    "
   ]
  },
  {
   "cell_type": "code",
   "execution_count": 127,
   "metadata": {},
   "outputs": [],
   "source": [
    "rows,columns=b_dum.shape"
   ]
  },
  {
   "cell_type": "code",
   "execution_count": 129,
   "metadata": {},
   "outputs": [
    {
     "name": "stderr",
     "output_type": "stream",
     "text": [
      "<ipython-input-129-c7642c7795f5>:4: RuntimeWarning: overflow encountered in ubyte_scalars\n",
      "  b_dum[i,j]=(b_dum[i,j]+b_dum[i,j+1]+b_dum[i+1,j]+b_dum[i+1,j+1])/4\n"
     ]
    }
   ],
   "source": [
    "for i in range(rows):\n",
    "    for j in range(columns):\n",
    "        if i<rows-1 and j<columns-1:\n",
    "            b_dum[i,j]=(b_dum[i,j]+b_dum[i,j+1]+b_dum[i+1,j]+b_dum[i+1,j+1])/4"
   ]
  },
  {
   "cell_type": "code",
   "execution_count": 130,
   "metadata": {},
   "outputs": [],
   "source": [
    "imshow(b_dum)"
   ]
  },
  {
   "cell_type": "code",
   "execution_count": 132,
   "metadata": {},
   "outputs": [],
   "source": [
    "def average(b_dum):\n",
    "    for i in range(rows):\n",
    "        for j in range(columns):\n",
    "            if i<rows-1 and j<columns-1:\n",
    "                b_dum[i,j]=(b_dum[i,j]+b_dum[i,j+1]+b_dum[i+1,j]+b_dum[i+1,j+1])/4\n",
    "                \n",
    "    return b_dum            "
   ]
  },
  {
   "cell_type": "code",
   "execution_count": 133,
   "metadata": {},
   "outputs": [
    {
     "name": "stderr",
     "output_type": "stream",
     "text": [
      "<ipython-input-132-dba811fbc128>:5: RuntimeWarning: overflow encountered in ubyte_scalars\n",
      "  b_dum[i,j]=(b_dum[i,j]+b_dum[i,j+1]+b_dum[i+1,j]+b_dum[i+1,j+1])/4\n"
     ]
    }
   ],
   "source": [
    "r_avg=average(r)"
   ]
  },
  {
   "cell_type": "code",
   "execution_count": 134,
   "metadata": {},
   "outputs": [
    {
     "name": "stderr",
     "output_type": "stream",
     "text": [
      "<ipython-input-132-dba811fbc128>:5: RuntimeWarning: overflow encountered in ubyte_scalars\n",
      "  b_dum[i,j]=(b_dum[i,j]+b_dum[i,j+1]+b_dum[i+1,j]+b_dum[i+1,j+1])/4\n"
     ]
    }
   ],
   "source": [
    "b_avg=average(b)"
   ]
  },
  {
   "cell_type": "code",
   "execution_count": 135,
   "metadata": {},
   "outputs": [
    {
     "name": "stderr",
     "output_type": "stream",
     "text": [
      "<ipython-input-132-dba811fbc128>:5: RuntimeWarning: overflow encountered in ubyte_scalars\n",
      "  b_dum[i,j]=(b_dum[i,j]+b_dum[i,j+1]+b_dum[i+1,j]+b_dum[i+1,j+1])/4\n"
     ]
    }
   ],
   "source": [
    "g_avg=average(g)"
   ]
  },
  {
   "cell_type": "code",
   "execution_count": 136,
   "metadata": {},
   "outputs": [],
   "source": [
    "photo[:,:,0]=b_avg"
   ]
  },
  {
   "cell_type": "code",
   "execution_count": 137,
   "metadata": {},
   "outputs": [],
   "source": [
    "photo[:,:,1]=g_avg"
   ]
  },
  {
   "cell_type": "code",
   "execution_count": 138,
   "metadata": {},
   "outputs": [],
   "source": [
    "photo[:,:,2]=r_avg"
   ]
  },
  {
   "cell_type": "code",
   "execution_count": 139,
   "metadata": {},
   "outputs": [],
   "source": [
    "imshow(photo)"
   ]
  },
  {
   "cell_type": "code",
   "execution_count": 145,
   "metadata": {},
   "outputs": [],
   "source": [
    "def blur(photo):\n",
    "    b,g,r=cv2.split(photo)\n",
    "    r_avg=average(r)\n",
    "    b_avg=average(b)\n",
    "    g_avg=average(g)\n",
    "    photo[:,:,0]=b_avg\n",
    "    photo[:,:,1]=g_avg\n",
    "    photo[:,:,2]=r_avg\n",
    "    return photo\n",
    "    \n",
    "    "
   ]
  },
  {
   "cell_type": "code",
   "execution_count": 146,
   "metadata": {},
   "outputs": [],
   "source": [
    "ret,photo=cap.read()"
   ]
  },
  {
   "cell_type": "code",
   "execution_count": 147,
   "metadata": {},
   "outputs": [
    {
     "name": "stderr",
     "output_type": "stream",
     "text": [
      "<ipython-input-132-dba811fbc128>:5: RuntimeWarning: overflow encountered in ubyte_scalars\n",
      "  b_dum[i,j]=(b_dum[i,j]+b_dum[i,j+1]+b_dum[i+1,j]+b_dum[i+1,j+1])/4\n"
     ]
    }
   ],
   "source": [
    "b_photo=blur(photo)"
   ]
  },
  {
   "cell_type": "code",
   "execution_count": 148,
   "metadata": {},
   "outputs": [],
   "source": [
    "imshow(b_photo)"
   ]
  },
  {
   "cell_type": "code",
   "execution_count": null,
   "metadata": {},
   "outputs": [],
   "source": []
  }
 ],
 "metadata": {
  "kernelspec": {
   "display_name": "Python 3",
   "language": "python",
   "name": "python3"
  },
  "language_info": {
   "codemirror_mode": {
    "name": "ipython",
    "version": 3
   },
   "file_extension": ".py",
   "mimetype": "text/x-python",
   "name": "python",
   "nbconvert_exporter": "python",
   "pygments_lexer": "ipython3",
   "version": "3.8.5"
  }
 },
 "nbformat": 4,
 "nbformat_minor": 4
}
